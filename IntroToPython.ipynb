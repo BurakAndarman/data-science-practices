{
  "cells": [
    {
      "cell_type": "markdown",
      "source": [
        "# Chapter 1\n",
        "### Your first day at your new job 👩‍💻👨‍💻\n",
        "\n",
        "You are starting a new job as a junior software developer in an IT company. \n",
        "\n",
        "The company’s HR department asks you to fill out a form, so you start by assigning your personal information to corresponding variables.\n",
        "\n",
        "📌 Create a variable for your name, surname, age, ID number, place of residence, to specify if you have active health insurance or not, and lastly one for specifying your nationality.\n"
      ],
      "metadata": {
        "id": "VMuUK0ap_bRD"
      }
    },
    {
      "cell_type": "code",
      "execution_count": null,
      "metadata": {
        "id": "OPLhhc2Sp-D0"
      },
      "outputs": [],
      "source": [
        "#Please assign your personal information to variables\n",
        "name=\"Burak\"\n",
        "surname=\"Andarman\"\n",
        "age=22\n",
        "id_number=123456\n",
        "place_of_residence=\"İstanbul\"\n",
        "insurance=True\n",
        "nationality=\"Turkish\""
      ]
    },
    {
      "cell_type": "markdown",
      "metadata": {
        "id": "3zaUlxwcp-D0"
      },
      "source": [
        "###Meet And Greet\n",
        "Introduce yourself to your new co-workers.\n",
        "\n",
        "📌 Use a f-string to print \"My name is Joey Tribbiani I am 25 years old and I live in London”."
      ]
    },
    {
      "cell_type": "code",
      "source": [
        "#Write a sentence using the print function to describe yourself using the variables above in the correct data type\n",
        "print(f\"My name is {name} {surname} I am {age} yeears old and I live in {place_of_residence}\")"
      ],
      "metadata": {
        "id": "XNuh5_2WXwvg",
        "colab": {
          "base_uri": "https://localhost:8080/"
        },
        "outputId": "2b2a05e2-4996-4696-b4c8-29a55e333771"
      },
      "execution_count": null,
      "outputs": [
        {
          "output_type": "stream",
          "name": "stdout",
          "text": [
            "My name is Burak Andarman I am 22 yeears old and I live in İstanbul\n"
          ]
        }
      ]
    },
    {
      "cell_type": "markdown",
      "metadata": {
        "id": "EEL9To4ip-D1"
      },
      "source": [
        "### Equipment starter pack\n",
        "The HR department asks you to list the items you would need to improve your work efficiency\n",
        "\n",
        "Mandatory:\n",
        "* Laptop\n",
        "* Headset\n",
        "* Second monitor\n",
        "\n",
        "Optional:\n",
        "* Mousepad\n",
        "* USB drive\n",
        "* External drive\n",
        "\n",
        "\n",
        "📌 Create a shopping list that contains items above and print it."
      ]
    },
    {
      "cell_type": "code",
      "execution_count": null,
      "metadata": {
        "id": "fPFBLDyqp-D2"
      },
      "outputs": [],
      "source": [
        "#Create the item_list\n",
        "item_list=[\"Laptop\",\"Headset\",\"Second monitor\",\"Mousepad\",\"USB drive\",\"External drive\"]"
      ]
    },
    {
      "cell_type": "code",
      "source": [
        "#Print the list\n",
        "print(item_list)"
      ],
      "metadata": {
        "id": "358R_CN5U2-J",
        "colab": {
          "base_uri": "https://localhost:8080/"
        },
        "outputId": "256f798b-9801-41b5-dc9e-4201a32d6167"
      },
      "execution_count": null,
      "outputs": [
        {
          "output_type": "stream",
          "name": "stdout",
          "text": [
            "['Laptop', 'Headset', 'Second monitor', 'Mousepad', 'USB drive', 'External drive']\n"
          ]
        }
      ]
    },
    {
      "cell_type": "markdown",
      "metadata": {
        "id": "5keEWjCyp-D2"
      },
      "source": [
        "####What is mandatory and what is optional?\n",
        "\n",
        "📌 Use list slicing to devide your list in two list: 'mandatory_item_list' and 'optional_item_list' and print both to the screen."
      ]
    },
    {
      "cell_type": "code",
      "execution_count": null,
      "metadata": {
        "id": "E6ewuDYZp-D2"
      },
      "outputs": [],
      "source": [
        "#Use list slicing to divide the mandatory items\n",
        "mandatory_item_list=item_list[0:3]"
      ]
    },
    {
      "cell_type": "code",
      "source": [
        "#Use list slicing to divide the optional items\n",
        "optional_item_list=item_list[3:7]"
      ],
      "metadata": {
        "id": "hOmkym01RGEL"
      },
      "execution_count": null,
      "outputs": []
    },
    {
      "cell_type": "code",
      "source": [
        "#Print both to the screen\n",
        "print(mandatory_item_list,optional_item_list)"
      ],
      "metadata": {
        "id": "xsVv1_msVE1_",
        "colab": {
          "base_uri": "https://localhost:8080/"
        },
        "outputId": "aaddb742-d76b-47c3-8c35-e31c39121ef7"
      },
      "execution_count": null,
      "outputs": [
        {
          "output_type": "stream",
          "name": "stdout",
          "text": [
            "['Laptop', 'Headset', 'Second monitor'] ['Mousepad', 'USB drive', 'External drive']\n"
          ]
        }
      ]
    },
    {
      "cell_type": "markdown",
      "metadata": {
        "id": "s_M1Q93wp-D3"
      },
      "source": [
        "#### Go Shopping\n",
        "Next, you will have to go and purchase these items, the finance department confirmed a budget of $5000.\n",
        "\n",
        "📌 Assign 5000 to a variable called limit, so you know how much you can spend."
      ]
    },
    {
      "cell_type": "code",
      "execution_count": null,
      "metadata": {
        "id": "nCmpm0oqp-D3"
      },
      "outputs": [],
      "source": [
        "#Assign the spending limit value to a variable called limit\n",
        "limit=5000"
      ]
    },
    {
      "cell_type": "markdown",
      "metadata": {
        "id": "VwbEEymVp-D3"
      },
      "source": [
        "####Price dictionary\n",
        "\n",
        "Before you start shopping yo need to find the best items that you can buy within the company budget. \n",
        "\n",
        "📌 Prepare a dictionary called “price_sheet” that includes the items as keys and the prices as values.  \n",
        " "
      ]
    },
    {
      "cell_type": "code",
      "execution_count": null,
      "metadata": {
        "id": "9o9n9Ag-p-D3"
      },
      "outputs": [],
      "source": [
        "#Create a dictionary that contains each item and its price\n",
        "price_sheet={\"Laptop\":1000,\"Headset\":500,\"Second monitor\":1000,\"Mousepad\":300,\"USB drive\":250,\"External drive\":350}\n"
      ]
    },
    {
      "cell_type": "markdown",
      "metadata": {
        "id": "rUYivBVEBhCv"
      },
      "source": [
        "####Shopping functions\n",
        "\n",
        "You need to define three functions that will help you during shopping.\n",
        "\n",
        "📌 First, create an empty list that  will be your shopping cart. Here you will add the items you need to purchase.\n",
        "\n",
        "1. Define a function for both adding items to the cart and removing them from the item_list.\n",
        "\n",
        "📌 The \"add_to_cart\" function should take the item name and the quantity to buy as an argument. \n",
        "\n",
        "2. Define a function that will create an invoice. \n",
        "\n",
        "📌 The \"create_invoice\" function should calculate the taxes of each item (18%) and add it to the total amount.\n",
        "\n",
        "3. Define a function for the checkout. \n",
        "\n",
        "📌 The \"checkout\" function should subtract the total amount from the budget and print a statement to inform if the payment was successful. "
      ]
    },
    {
      "cell_type": "code",
      "source": [
        "#Initialize the cart list\n",
        "cart_list=[]"
      ],
      "metadata": {
        "id": "dBNZ2ZdkGHUe"
      },
      "execution_count": null,
      "outputs": []
    },
    {
      "cell_type": "code",
      "source": [
        "#Define the \"add_to_cart\" function\n",
        "def add_to_cart(item_name,quantity):\n",
        "  cart_list.append((item_name,quantity)) \n",
        "  item_list.remove(item_name)"
      ],
      "metadata": {
        "id": "HH26hHHFGKPJ"
      },
      "execution_count": null,
      "outputs": []
    },
    {
      "cell_type": "code",
      "source": [
        "#Define the \"create_invoice\" function\n",
        "def create_invoice():\n",
        "  total_amount=0\n",
        "  \n",
        "  for item,quantity in cart_list:\n",
        "    price=price_sheet[item]\n",
        "    tax=price*0.18\n",
        "    total=(price+tax)*quantity\n",
        "    total_amount+=total\n",
        "    print(f\"Item: {item}, Price: {price}, Quantity: {quantity}, Tax: {tax}, Total: {total}\")\n",
        "\n",
        "  print(\"After the taxes are applied total amount is: \",total_amount)\n",
        "  return total_amount\n",
        "    \n",
        "    "
      ],
      "metadata": {
        "id": "TUmNr4xVGQdm"
      },
      "execution_count": null,
      "outputs": []
    },
    {
      "cell_type": "code",
      "source": [
        "#Define the \"checkout\" function\n",
        "def checkout():\n",
        "  global limit\n",
        "  total_amount=create_invoice()\n",
        "  if(limit==0):\n",
        "    print(\"You don't have any budget\")\n",
        "  elif(total_amount>limit):\n",
        "    print(\"Limit has been exceeded\")\n",
        "  else:\n",
        "    limit-=total_amount\n",
        "    print(f\"The total amount (inc. taxes) you've paid is {total_amount}. You have {limit} dollars left.\")\n"
      ],
      "metadata": {
        "id": "iUlKiXgMGdIk"
      },
      "execution_count": null,
      "outputs": []
    },
    {
      "cell_type": "markdown",
      "source": [
        "Let's shop!"
      ],
      "metadata": {
        "id": "2IFUlu0yB0In"
      }
    },
    {
      "cell_type": "code",
      "source": [
        "#Call the \"add_to_cart\" function for each item\n",
        " \n",
        "#Add first item to cart\n",
        "add_to_cart(\"Laptop\",1)\n",
        " \n",
        "#Add second item to cart\n",
        "add_to_cart(\"Headset\",1)\n",
        " \n",
        "#Add third item to cart\n",
        "add_to_cart(\"Second monitor\",1)\n",
        " \n",
        "#Add fourth item to cart\n",
        "add_to_cart(\"Mousepad\",3)\n",
        " \n",
        "#Add fifth item to cart\n",
        "add_to_cart(\"USB drive\",2)\n",
        " \n",
        "#Add last item to cart\n",
        "add_to_cart(\"External drive\",2)\n",
        " \n",
        "#Call the create \"checkout\" function to pay for all your items \n",
        "checkout()"
      ],
      "metadata": {
        "id": "FDO7CRJTWPg7",
        "colab": {
          "base_uri": "https://localhost:8080/"
        },
        "outputId": "f911bb5e-03f3-4201-ff7b-f96a96f19120"
      },
      "execution_count": null,
      "outputs": [
        {
          "output_type": "stream",
          "name": "stdout",
          "text": [
            "Item: Laptop, Price: 1000, Quantity: 1, Tax: 180.0, Total: 1180.0\n",
            "Item: Headset, Price: 500, Quantity: 1, Tax: 90.0, Total: 590.0\n",
            "Item: Second monitor, Price: 1000, Quantity: 1, Tax: 180.0, Total: 1180.0\n",
            "Item: Mousepad, Price: 300, Quantity: 3, Tax: 54.0, Total: 1062.0\n",
            "Item: USB drive, Price: 250, Quantity: 2, Tax: 45.0, Total: 590.0\n",
            "Item: External drive, Price: 350, Quantity: 2, Tax: 63.0, Total: 826.0\n",
            "After the taxes are applied total amount is:  5428.0\n",
            "Limit has been exceeded\n"
          ]
        }
      ]
    },
    {
      "cell_type": "markdown",
      "source": [
        "###Game Night\n",
        "\n",
        "You are back at the office and the HR department organizes a welcome party for new employees. \n",
        "\n",
        "You decide to create a Rock-Paper-Scissor game. \n",
        "\n",
        "📌 Create a Rock-Paper-Scissor game in which the user plays against the computer. The player will choose one of the actions, and the computer will choose its action randomly.\n"
      ],
      "metadata": {
        "id": "ZL-r2x_xKixg"
      }
    },
    {
      "cell_type": "code",
      "source": [
        "#Import the random library\n",
        "import random"
      ],
      "metadata": {
        "id": "qzD5pxBTgcFb"
      },
      "execution_count": null,
      "outputs": []
    },
    {
      "cell_type": "code",
      "source": [
        "#create a list containing the three actions of the game.\n",
        "actions=[\"Rock\",\"Paper\",\"Scissor\"]"
      ],
      "metadata": {
        "id": "oJv-ihLAgcRo"
      },
      "execution_count": null,
      "outputs": []
    },
    {
      "cell_type": "code",
      "source": [
        "#Set the scores of players to 0\n",
        "player1=0\n",
        "player2=0\n",
        "#Ask the user how many rounds they want to play\n",
        "rounds=input(\"How many rounds do you want to play? \")\n",
        "\n",
        "#Add a round_counter that is 0 at the beginning\n",
        "round_counter=0\n",
        "\n",
        "#Write a while loop and put the game inside\n",
        "while(True):\n",
        "\n",
        "  #Increase round_counter by and print it\n",
        "  round_counter+=1\n",
        "  print(\"Current round: \",round_counter)\n",
        "\n",
        "  #Select a random action for computer\n",
        "  action1=actions[random.randint(0,2)]\n",
        "\n",
        "  #Ask player to choose an action\n",
        "  action2=input(\"Please choose an action: \")\n",
        "\n",
        "  #Print the players choices\n",
        "  print(\"Player1 chose: \",action1)\n",
        "  print(\"Player2 chose: \",action2)\n",
        "\n",
        "\n",
        "  #tie condition\n",
        "  if(action1==action2):\n",
        "    print(\"Tie\")\n",
        "\n",
        "\n",
        "  #Remaining conditions\n",
        "  elif(action1==\"Rock\" and action2==\"Scissor\" or action1==\"Paper\" and action2==\"Rock\" or action1==\"Scissor\" and action2==\"Paper\"):\n",
        "      print(\"Player1 has won\")\n",
        "      player1+=1\n",
        "  else:\n",
        "      print(\"Player2 has won\")\n",
        "      player2+=1\n",
        "      \n",
        "\n",
        "\n",
        "  #Stop the while loop if the round_counter equals the number of total rounds\n",
        "  if(round_counter==int(rounds)):\n",
        "    break;\n",
        "\n",
        "\n",
        "#Print the outcome of the game by using conditional statements\n",
        "if(player1>player2):\n",
        "  print(\"Player 1 has won the game\")\n",
        "elif(player1<player2):\n",
        "  print(\"Player 2 has won the game\")\n",
        "else:\n",
        "  print(\"Tie\")"
      ],
      "metadata": {
        "id": "DNUa_9afWqMd",
        "colab": {
          "base_uri": "https://localhost:8080/"
        },
        "outputId": "dbc1c9a3-3b78-456b-d53d-fd67365c76f7"
      },
      "execution_count": null,
      "outputs": [
        {
          "output_type": "stream",
          "name": "stdout",
          "text": [
            "How many rounds do you want to play? 3\n",
            "Current round:  1\n",
            "Please choose an action: Rock\n",
            "Player1 chose:  Rock\n",
            "Player2 chose:  Rock\n",
            "Tie\n",
            "Current round:  2\n",
            "Please choose an action: Scissors\n",
            "Player1 chose:  Rock\n",
            "Player2 chose:  Scissors\n",
            "Player2 has won\n",
            "Current round:  3\n",
            "Please choose an action: Paper\n",
            "Player1 chose:  Rock\n",
            "Player2 chose:  Paper\n",
            "Player2 has won\n",
            "Player 2 has won the game\n"
          ]
        }
      ]
    },
    {
      "cell_type": "markdown",
      "metadata": {
        "id": "jdrYN0Xgp-D6"
      },
      "source": [
        "# Your first task \n",
        "\n",
        "Rachel asks you to write a program to track the name and revenue each employee brings.  \n",
        "\n",
        "* Create the \"salesperson_revenue\" dictionary to see the employee name as a key and the revenue as a value.\n",
        "\n",
        "  📌 Every employee starts with 0 revenue.\n",
        "* Define the \"enter_revenue\" function. \n",
        "\n",
        "  📌 The function takes the name and revenue as an argument and updates the salesperson_revenue dictionary.\n"
      ]
    },
    {
      "cell_type": "code",
      "source": [
        "#Create salesperson_revenue dictionary\n",
        "salesperson_revenue={\"Burak\":0,\"Umut\":0}\n"
      ],
      "metadata": {
        "id": "3vzRo7hyMRv2"
      },
      "execution_count": null,
      "outputs": []
    },
    {
      "cell_type": "code",
      "source": [
        "#Define enter_revenue function\n",
        "def enter_revenue(name,revenue):\n",
        "  global salesperson_revenue\n",
        "  salesperson_revenue[name]+=revenue\n"
      ],
      "metadata": {
        "id": "m-8IozBwMRzM"
      },
      "execution_count": null,
      "outputs": []
    },
    {
      "cell_type": "markdown",
      "source": [
        "####Try out the functions\n",
        "* In a while loop ask the user to give the name of the employee and for the revenue \n",
        "\n",
        "  📌 If the user enters “quit” the loop should break.\n",
        "\n",
        "After that, print out the salesperson_revenue dictionary.\n"
      ],
      "metadata": {
        "id": "UnTGSoNTi58u"
      }
    },
    {
      "cell_type": "code",
      "source": [
        "#Asking user employee name as input\n",
        "while (True):\n",
        "  name=input(\"Please give the name of employee: \")\n",
        "\n",
        "  if(name==\"quit\"):\n",
        "    break;\n",
        "\n",
        "  revenue=input(\"Please enter revenue: \")\n",
        "  enter_revenue(name,int(revenue))\n",
        "\n",
        "  print(f\"{name}'s revenue is {salesperson_revenue[name]}\")\n",
        "  "
      ],
      "metadata": {
        "id": "2E549VvFXNi6",
        "colab": {
          "base_uri": "https://localhost:8080/"
        },
        "outputId": "05920b0c-c310-4241-e11d-78bedf7f8eae"
      },
      "execution_count": null,
      "outputs": [
        {
          "name": "stdout",
          "output_type": "stream",
          "text": [
            "Please give the name of employee: quit\n"
          ]
        }
      ]
    },
    {
      "cell_type": "code",
      "source": [
        "#Print the salesperson_revenue dictionary\n",
        "print(salesperson_revenue)"
      ],
      "metadata": {
        "id": "OAvl9rgOXPe6",
        "colab": {
          "base_uri": "https://localhost:8080/"
        },
        "outputId": "4da1b5ba-9464-43ff-817b-3bdb76165877"
      },
      "execution_count": null,
      "outputs": [
        {
          "output_type": "stream",
          "name": "stdout",
          "text": [
            "{'Burak': 1100, 'Umut': 0}\n"
          ]
        }
      ]
    }
  ],
  "metadata": {
    "interpreter": {
      "hash": "c5914ae3790566b9cd0e984a9bdda42a29da8adf046b5ac0173e0d37aacf3dab"
    },
    "kernelspec": {
      "display_name": "Python 3.9.7",
      "language": "python",
      "name": "python3"
    },
    "language_info": {
      "codemirror_mode": {
        "name": "ipython",
        "version": 3
      },
      "file_extension": ".py",
      "mimetype": "text/x-python",
      "name": "python",
      "nbconvert_exporter": "python",
      "pygments_lexer": "ipython3",
      "version": "3.9.7"
    },
    "orig_nbformat": 4,
    "colab": {
      "provenance": []
    }
  },
  "nbformat": 4,
  "nbformat_minor": 0
}